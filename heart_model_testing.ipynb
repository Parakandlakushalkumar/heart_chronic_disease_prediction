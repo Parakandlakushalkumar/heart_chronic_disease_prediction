{
  "nbformat": 4,
  "nbformat_minor": 0,
  "metadata": {
    "colab": {
      "provenance": []
    },
    "kernelspec": {
      "name": "python3",
      "display_name": "Python 3"
    },
    "language_info": {
      "name": "python"
    }
  },
  "cells": [
    {
      "cell_type": "code",
      "execution_count": 11,
      "metadata": {
        "id": "nqkRzXRZLebo"
      },
      "outputs": [],
      "source": [
        "labels =[]"
      ]
    },
    {
      "cell_type": "code",
      "source": [
        "labels = [\t'age',\t'sex',\t'cp',\t'trestbps',\t'restecg',\t'thalach',\t'exang',\t'oldpeak',\t'slope',\t'ca',\t'thal']\n",
        "#coverting string into array by common space"
      ],
      "metadata": {
        "id": "e-0BBJXSM4TI"
      },
      "execution_count": 15,
      "outputs": []
    },
    {
      "cell_type": "code",
      "source": [
        "input_data =[]\n",
        "\n",
        "for label in labels:\n",
        "   input_data.append(float(input(label+': ')))\n",
        "input_data\n",
        "#asking i/p,storing user inserting values ion to an input_data array and printing final o/p as an array,"
      ],
      "metadata": {
        "colab": {
          "base_uri": "https://localhost:8080/"
        },
        "id": "Qe2FRHkZM37V",
        "outputId": "ba9207d8-bcd1-47e2-9461-928c181261f7"
      },
      "execution_count": 18,
      "outputs": [
        {
          "name": "stdout",
          "output_type": "stream",
          "text": [
            "age: 25\n",
            "sex: 1\n",
            "cp: 1\n",
            "trestbps: 1\n",
            "restecg: 1\n",
            "thalach: 1\n",
            "exang: 1\n",
            "oldpeak: 1\n",
            "slope: 1\n",
            "ca: 1\n",
            "thal: 1\n"
          ]
        },
        {
          "output_type": "execute_result",
          "data": {
            "text/plain": [
              "[25.0, 1.0, 1.0, 1.0, 1.0, 1.0, 1.0, 1.0, 1.0, 1.0, 1.0]"
            ]
          },
          "metadata": {},
          "execution_count": 18
        }
      ]
    },
    {
      "cell_type": "code",
      "source": [
        "#load the model\n",
        "from keras.models import load_model\n",
        "import numpy as np\n",
        "#converting inputs in to an array by numpy\n",
        "obj = load_model('/content/heart.h5')\n",
        "\n",
        "in_array = np.array([input_data])\n",
        "\n",
        "#telling to predict\n",
        "result = obj.predict(in_array)\n",
        "\n",
        "if result > 0.5:\n",
        "   print('Heart Disease')\n",
        "else:\n",
        "  print('No Heart Disease')"
      ],
      "metadata": {
        "colab": {
          "base_uri": "https://localhost:8080/"
        },
        "id": "UqdCY7WjM3q4",
        "outputId": "432dcf06-2c50-435a-a350-fb52a0ab42ab"
      },
      "execution_count": 21,
      "outputs": [
        {
          "output_type": "stream",
          "name": "stderr",
          "text": [
            "WARNING:absl:Compiled the loaded model, but the compiled metrics have yet to be built. `model.compile_metrics` will be empty until you train or evaluate the model.\n"
          ]
        },
        {
          "output_type": "stream",
          "name": "stdout",
          "text": [
            "\u001b[1m1/1\u001b[0m \u001b[32m━━━━━━━━━━━━━━━━━━━━\u001b[0m\u001b[37m\u001b[0m \u001b[1m0s\u001b[0m 138ms/step\n",
            "No Heart Disease\n"
          ]
        }
      ]
    }
  ]
}